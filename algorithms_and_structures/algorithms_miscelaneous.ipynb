{
 "cells": [
  {
   "cell_type": "code",
   "execution_count": null,
   "metadata": {},
   "outputs": [],
   "source": []
  },
  {
   "cell_type": "markdown",
   "metadata": {},
   "source": [
    "We have a box with red balls and blue balls. Design an algorithm that sorts them by color inplace\n"
   ]
  },
  {
   "cell_type": "code",
   "execution_count": 38,
   "metadata": {},
   "outputs": [
    {
     "name": "stdout",
     "output_type": "stream",
     "text": [
      "[ 1  1  1 10 10 10 10 10 10 10]\n"
     ]
    }
   ],
   "source": [
    "# let call red  = 1 and blue = 0 \n",
    "# the box is represented by an array \n",
    "\n",
    "import numpy as np \n",
    "\n",
    "def sort_binary_array( a, first_value = 1  ):\n",
    "\n",
    "    def swap( l, a,b ):\n",
    "        temp  = l[a]\n",
    "        l[a] = l[b] \n",
    "        l[b] = temp \n",
    "\n",
    "    # the last ball index with the given code  \n",
    "    n1 = -1\n",
    "    while (a[n1+1] == first_value) and (n1 < len(a)-2) : n1 += 1 \n",
    "\n",
    "    for n2 in range( n1+1, len(a) ):\n",
    "        if a[n2] == first_value:\n",
    "            swap( a, n1+1, n2 )\n",
    "            n1 = n1 + 1 \n",
    "\n",
    "a= np.array( [  10 ,10 ,1,1,10,10,10,10,10, 1] ) \n",
    "sort_binary_array( a , 1 )\n",
    "print(a)\n",
    "\n"
   ]
  }
 ],
 "metadata": {
  "kernelspec": {
   "display_name": "Python 3",
   "language": "python",
   "name": "python3"
  },
  "language_info": {
   "codemirror_mode": {
    "name": "ipython",
    "version": 3
   },
   "file_extension": ".py",
   "mimetype": "text/x-python",
   "name": "python",
   "nbconvert_exporter": "python",
   "pygments_lexer": "ipython3",
   "version": "3.12.1"
  }
 },
 "nbformat": 4,
 "nbformat_minor": 2
}
