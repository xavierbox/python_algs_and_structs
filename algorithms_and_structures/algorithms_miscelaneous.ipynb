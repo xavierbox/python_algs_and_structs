{
 "cells": [
  {
   "cell_type": "code",
   "execution_count": null,
   "metadata": {},
   "outputs": [],
   "source": []
  },
  {
   "cell_type": "markdown",
   "metadata": {},
   "source": [
    "We have a box with red balls and blue balls. Design an algorithm that sorts them by color inplace\n"
   ]
  },
  {
   "cell_type": "code",
   "execution_count": 38,
   "metadata": {},
   "outputs": [
    {
     "name": "stdout",
     "output_type": "stream",
     "text": [
      "[ 1  1  1 10 10 10 10 10 10 10]\n"
     ]
    }
   ],
   "source": [
    "# let call red  = 1 and blue = 0 \n",
    "# the box is represented by an array \n",
    "\n",
    "import numpy as np \n",
    "\n",
    "def sort_binary_array( a, first_value = 1  ):\n",
    "\n",
    "    def swap( l, a,b ):\n",
    "        temp  = l[a]\n",
    "        l[a] = l[b] \n",
    "        l[b] = temp \n",
    "\n",
    "    # the last ball index with the given code  \n",
    "    n1 = -1\n",
    "    while (a[n1+1] == first_value) and (n1 < len(a)-2) : n1 += 1 \n",
    "\n",
    "    for n2 in range( n1+1, len(a) ):\n",
    "        if a[n2] == first_value:\n",
    "            swap( a, n1+1, n2 )\n",
    "            n1 = n1 + 1 \n",
    "\n",
    "a= np.array( [  10 ,10 ,1,1,10,10,10,10,10, 1] ) \n",
    "sort_binary_array( a , 1 )\n",
    "print(a)\n",
    "\n"
   ]
  },
  {
   "cell_type": "code",
   "execution_count": null,
   "metadata": {},
   "outputs": [],
   "source": [
    "\n",
    "# find the subarray with the biggest sum\n",
    "a = [-2,7,3,-4 ]#,2,-1,3, ]\n",
    "\n",
    "maximum_sum = a[0]\n",
    "current_sum = maximum_sum  \n",
    "\n",
    "\n",
    "for n in range( 1,len(a),1 ):\n",
    "    \n",
    "    value = a[n]\n",
    "    print( 'checking value ', value )  \n",
    "    if value + current_sum > maximum_sum:\n",
    "        \n",
    "        maximum_sum  = value + current_sum\n",
    "        current_sum  = maximum_sum\n",
    "        \n",
    "    else:\n",
    "        current_sum = value + a[n-1]\n",
    "        \n",
    "print( maximum_sum  )\n",
    "###########################################        \n",
    "        \n",
    "###############################################\n",
    "# find the kth largest value in an array \n",
    "###############################################\n",
    "    \n",
    "def min_in_array( a ):\n",
    "    m  = a[0]\n",
    "    index = 0 \n",
    "    \n",
    "    for k in range( 1, len(a),1 ):\n",
    "        value = a[k]\n",
    "        if value < m:\n",
    "            m = value\n",
    "            index = k \n",
    "            \n",
    "        \n",
    "    return m, index  \n",
    "    \n",
    "# the k largest elements in an array \n",
    "# given k \n",
    "a = [-3,2,1,5,6,-4] \n",
    "\n",
    "k = 3 \n",
    "biggest_k = [ a[n] for n in range(k) ]\n",
    "min_k, index = min_in_array( biggest_k )\n",
    "\n",
    "x= a[k:]\n",
    "for n in range( len( x )):\n",
    "    \n",
    "    print('candidate ', x[n])\n",
    "    if x[n] > min_k:\n",
    "        min_k, index = min_in_array( biggest_k )\n",
    "        biggest_k[index] = x[n] \n",
    "        print('here ', biggest_k)\n",
    "        \n",
    "print( biggest_k )\n",
    "\n",
    "    \n"
   ]
  },
  {
   "cell_type": "code",
   "execution_count": null,
   "metadata": {},
   "outputs": [],
   "source": []
  }
 ],
 "metadata": {
  "kernelspec": {
   "display_name": "Python 3",
   "language": "python",
   "name": "python3"
  },
  "language_info": {
   "codemirror_mode": {
    "name": "ipython",
    "version": 3
   },
   "file_extension": ".py",
   "mimetype": "text/x-python",
   "name": "python",
   "nbconvert_exporter": "python",
   "pygments_lexer": "ipython3",
   "version": "3.12.1"
  }
 },
 "nbformat": 4,
 "nbformat_minor": 2
}
