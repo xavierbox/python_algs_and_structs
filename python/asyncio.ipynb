{
 "cells": [
  {
   "cell_type": "code",
   "execution_count": 4,
   "metadata": {},
   "outputs": [
    {
     "name": "stdout",
     "output_type": "stream",
     "text": [
      "preparing coffee\n",
      "coffee done\n",
      "preparing bagels\n",
      "bagles done\n",
      "total time taken: 0.8004777431488037\n"
     ]
    }
   ],
   "source": [
    "\n",
    "import time\n",
    "\n",
    "def coffee():\n",
    "    print('preparing coffee')\n",
    "    time.sleep(0.3)\n",
    "    print('coffee done')\n",
    "\n",
    "def bagels():\n",
    "    print('preparing bagels')\n",
    "    time.sleep(0.5)\n",
    "    print('bagles done')\n",
    "\n",
    "def main():\n",
    "    \n",
    "    start_time = time.time()\n",
    "    coffee()\n",
    "    bagels()    \n",
    "    end_time = time.time()\n",
    "    print('total time taken:', end_time - start_time) \n",
    "    \n",
    "main()\n",
    "\n",
    "\n"
   ]
  },
  {
   "cell_type": "code",
   "execution_count": null,
   "metadata": {},
   "outputs": [],
   "source": []
  },
  {
   "cell_type": "code",
   "execution_count": 12,
   "metadata": {},
   "outputs": [
    {
     "data": {
      "text/plain": [
       "<Task pending name='Task-7' coro=<main() running at /tmp/ipykernel_12689/1488382000.py:16>>"
      ]
     },
     "execution_count": 12,
     "metadata": {},
     "output_type": "execute_result"
    },
    {
     "name": "stdout",
     "output_type": "stream",
     "text": [
      "<class 'asyncio.tasks._GatheringFuture'>\n",
      "preparing coffee\n",
      "preparing bagels\n",
      "coffee done\n",
      "bagles done\n",
      "<class 'str'>\n",
      "total time taken: 0.5009262561798096\n"
     ]
    }
   ],
   "source": [
    "\n",
    "import time\n",
    "import asyncio \n",
    "\n",
    "async def coffee():\n",
    "    print('preparing coffee')\n",
    "    await asyncio.sleep(0.3)\n",
    "    print('coffee done')\n",
    "    return 'coffee'\n",
    "\n",
    "async def bagels():\n",
    "    print('preparing bagels')\n",
    "    await asyncio.sleep(0.5)\n",
    "    print('bagles done')\n",
    "    return 'bagels'\n",
    "\n",
    "async def main():\n",
    "    \n",
    "    start_time = time.time()\n",
    "    batch = asyncio.gather( coffee(), bagels() )     \n",
    "    print( type(batch) )\n",
    "    \n",
    "    result_coffee, result_bagels = await batch  \n",
    "    print( type(result_coffee) )\n",
    "    \n",
    "    end_time = time.time()\n",
    "    print('total time taken:', end_time - start_time) \n",
    "    \n",
    "    \n",
    "asyncio.create_task(main())\n",
    "    "
   ]
  },
  {
   "cell_type": "code",
   "execution_count": null,
   "metadata": {},
   "outputs": [
    {
     "data": {
      "text/plain": [
       "<Task pending name='Task-44' coro=<main() running at /tmp/ipykernel_12689/1995592938.py:16>>"
      ]
     },
     "execution_count": 27,
     "metadata": {},
     "output_type": "execute_result"
    },
    {
     "name": "stdout",
     "output_type": "stream",
     "text": [
      "creating tasks \n",
      "preparing coffee\n",
      "preparing bagels\n",
      "bagles done\n",
      "coffee done\n",
      "results done\n",
      "total time taken: 2.0024101734161377\n"
     ]
    }
   ],
   "source": [
    "\n",
    "import time\n",
    "import asyncio \n",
    "\n",
    "async def coffee(x=1):\n",
    "    print('preparing coffee')\n",
    "    await asyncio.sleep(x)\n",
    "    print('coffee done')\n",
    "    return 'coffee'\n",
    "\n",
    "async def bagels(x=2):\n",
    "    print('preparing bagels')\n",
    "    await asyncio.sleep(x)\n",
    "    print('bagles done')\n",
    "    return 'bagels'\n",
    "\n",
    "async def main():\n",
    "    \n",
    "    start_time = time.time()\n",
    "    \n",
    "    print('creating tasks ')\n",
    "    \n",
    "    #these are co-routines. Nopt executed until awaited\n",
    "    #task1 = coffee() # asyncio.create_task(coffee())\n",
    "    #task2 = bagels() # asyncio.create_task(bagels())\n",
    "    #result_coffee = await task1 \n",
    "    #result_bagels = await task2  \n",
    "    \n",
    "    task1 = asyncio.create_task(coffee(2))\n",
    "    task2 = asyncio.create_task(bagels(1))\n",
    "    result_coffee = await task1 \n",
    "    print('this prints')\n",
    "    result_bagels = await task2  \n",
    "    print('this doesnt print')\n",
    "    \n",
    "    \n",
    "    print( 'results done')\n",
    " \n",
    "    \n",
    "    end_time = time.time()\n",
    "    print('total time taken:', end_time - start_time) \n",
    "    \n",
    " \n",
    "    \n",
    "asyncio.create_task(main())\n"
   ]
  },
  {
   "cell_type": "code",
   "execution_count": null,
   "metadata": {},
   "outputs": [],
   "source": []
  }
 ],
 "metadata": {
  "kernelspec": {
   "display_name": "Python 3",
   "language": "python",
   "name": "python3"
  },
  "language_info": {
   "codemirror_mode": {
    "name": "ipython",
    "version": 3
   },
   "file_extension": ".py",
   "mimetype": "text/x-python",
   "name": "python",
   "nbconvert_exporter": "python",
   "pygments_lexer": "ipython3",
   "version": "3.12.1"
  }
 },
 "nbformat": 4,
 "nbformat_minor": 2
}
