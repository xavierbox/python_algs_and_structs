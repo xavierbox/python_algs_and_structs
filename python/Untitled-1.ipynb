{
 "cells": [
  {
   "cell_type": "code",
   "execution_count": null,
   "metadata": {},
   "outputs": [],
   "source": [
    "import time \n",
    "def brewCoffee():\n",
    "    print('brewing coffee)\n",
    "    time.sleep(1)\n",
    "    print('coffee done)\n",
    "\n",
    "def toastBaggel():\n",
    "    print('toastging baggel')\n",
    "    time.sleep(2)\n",
    "    print('Bagels done)"
   ]
  },
  {
   "cell_type": "code",
   "execution_count": null,
   "metadata": {},
   "outputs": [],
   "source": []
  }
 ],
 "metadata": {
  "language_info": {
   "name": "python"
  }
 },
 "nbformat": 4,
 "nbformat_minor": 2
}
